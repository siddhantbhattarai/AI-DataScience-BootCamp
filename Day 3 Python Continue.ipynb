{
 "cells": [
  {
   "cell_type": "markdown",
   "id": "0b87c7fe-a5c3-42af-8a22-445e407bb8a2",
   "metadata": {},
   "source": [
    "1. Take a number from user and find whether it is prime or not"
   ]
  },
  {
   "cell_type": "code",
   "execution_count": 3,
   "id": "4b617ed1-b23b-4393-825f-2ec815be659e",
   "metadata": {},
   "outputs": [
    {
     "name": "stdin",
     "output_type": "stream",
     "text": [
      "Enter a number:  5\n"
     ]
    },
    {
     "name": "stdout",
     "output_type": "stream",
     "text": [
      "5 is a prime number.\n"
     ]
    }
   ],
   "source": [
    "# Take a number as input from user\n",
    "num = int(input(\"Enter a number: \"))\n",
    "\n",
    "# Initialize a flag to track if the number is prime\n",
    "is_prime = True\n",
    "\n",
    "# Check if the number is prime using a conditional statements\n",
    "if num <= 1:\n",
    "    is_prime = False\n",
    "else:\n",
    "    for i in range(2, int(num**0.5) + 1):\n",
    "        if num % i == 0:\n",
    "            is_prime = False\n",
    "            break\n",
    "# Print the result\n",
    "if is_prime:\n",
    "    print(num, \"is a prime number.\")\n",
    "else:\n",
    "    print(num, \"is not a prime number.\")"
   ]
  },
  {
   "cell_type": "markdown",
   "id": "aca844ef-b768-48dd-991f-0e42c7b87d61",
   "metadata": {},
   "source": [
    "2. Take a number from user and find whether it is even or not"
   ]
  },
  {
   "cell_type": "code",
   "execution_count": 4,
   "id": "faec5cd4-7d0e-4060-8db1-5a882db54e03",
   "metadata": {},
   "outputs": [
    {
     "name": "stdin",
     "output_type": "stream",
     "text": [
      "Enter a number:  10\n"
     ]
    },
    {
     "name": "stdout",
     "output_type": "stream",
     "text": [
      "10 is even number.\n"
     ]
    }
   ],
   "source": [
    "# Take number as input\n",
    "num = int(input(\"Enter a number: \"))\n",
    "\n",
    "# Check whether a number is even or not\n",
    "if num%2==0:\n",
    "    print(num, \"is even number.\")\n",
    "else:\n",
    "    print(num, \"is not even number\")"
   ]
  },
  {
   "cell_type": "markdown",
   "id": "0e7b1b42-95d8-4214-896a-9680f86c06df",
   "metadata": {},
   "source": [
    "3. Checking if a number is positive, negative or zero"
   ]
  },
  {
   "cell_type": "code",
   "execution_count": 5,
   "id": "31803f5e-0b75-48c9-926a-4000fe85febf",
   "metadata": {},
   "outputs": [
    {
     "name": "stdout",
     "output_type": "stream",
     "text": [
      "-5 is negative number.\n"
     ]
    }
   ],
   "source": [
    "num = -5\n",
    "\n",
    "if num > 0:\n",
    "    print(num, \"is positive number.\")\n",
    "elif num < 0:\n",
    "    print(num, \"is negative number.\")\n",
    "else:\n",
    "    print(num,\"is zero\")"
   ]
  },
  {
   "cell_type": "code",
   "execution_count": 7,
   "id": "5d2ac441-44e0-4fb6-bc31-e21b34d1fd2a",
   "metadata": {},
   "outputs": [
    {
     "name": "stdout",
     "output_type": "stream",
     "text": [
      "Hello World!\n"
     ]
    }
   ],
   "source": [
    "# Function\n",
    "def greet():\n",
    "    print(\"Hello World!\")\n",
    "greet()"
   ]
  },
  {
   "cell_type": "code",
   "execution_count": 8,
   "id": "4e1601f8-2c75-42ec-aa4c-4d13647e95d6",
   "metadata": {},
   "outputs": [
    {
     "name": "stdout",
     "output_type": "stream",
     "text": [
      "Hello Siddhant\n",
      "Hello Sandesh\n"
     ]
    }
   ],
   "source": [
    "# Function with parameters\n",
    "def greet_name(name):\n",
    "    print(\"Hello\", name)\n",
    "greet_name('Siddhant')\n",
    "greet_name('Sandesh')"
   ]
  },
  {
   "cell_type": "code",
   "execution_count": 9,
   "id": "e3fadd06-86c6-4eb9-a2b8-37dd7c6f91e0",
   "metadata": {},
   "outputs": [
    {
     "name": "stdout",
     "output_type": "stream",
     "text": [
      "Square of 5 is: 25\n"
     ]
    }
   ],
   "source": [
    "# Function with a return values\n",
    "def square(x):\n",
    "    return x**2\n",
    "\n",
    "result = square(5)\n",
    "print('Square of 5 is:', result)"
   ]
  },
  {
   "cell_type": "code",
   "execution_count": 11,
   "id": "81ddc248-1472-4476-9981-f4403fd8a38e",
   "metadata": {},
   "outputs": [
    {
     "name": "stdout",
     "output_type": "stream",
     "text": [
      "Minimun Number: 2\n",
      "Maximun number: 80\n"
     ]
    }
   ],
   "source": [
    "# Function with multiple return values\n",
    "def min_max(numbers):\n",
    "    return min(numbers), max(numbers)\n",
    "\n",
    "nums = [10, 2, 21, 15, 67, 80]\n",
    "min_num, max_num = min_max(nums)\n",
    "print('Minimun Number:', min_num)\n",
    "print('Maximun number:', max_num)"
   ]
  },
  {
   "cell_type": "code",
   "execution_count": 12,
   "id": "817d191e-c133-4acf-a781-48c53c693306",
   "metadata": {},
   "outputs": [
    {
     "name": "stdout",
     "output_type": "stream",
     "text": [
      "Square of 5: 25\n"
     ]
    }
   ],
   "source": [
    "# Lambda function\n",
    "square = lambda x: x**2\n",
    "print(\"Square of 5:\", square(5))"
   ]
  },
  {
   "cell_type": "code",
   "execution_count": 13,
   "id": "50aad500-8f16-4cb6-bb6e-158a3cc04eba",
   "metadata": {},
   "outputs": [
    {
     "name": "stdout",
     "output_type": "stream",
     "text": [
      "Sum of 10 and 15 is: 25\n"
     ]
    }
   ],
   "source": [
    "# Creating a lambda function to add two numbers\n",
    "add = lambda x, y: x + y\n",
    "print(\"Sum of 10 and 15 is:\", add(10, 15))"
   ]
  },
  {
   "cell_type": "code",
   "execution_count": null,
   "id": "464d4485-3f63-43ac-bbbf-3e2654758c3d",
   "metadata": {},
   "outputs": [],
   "source": []
  }
 ],
 "metadata": {
  "kernelspec": {
   "display_name": "Python 3 (ipykernel)",
   "language": "python",
   "name": "python3"
  },
  "language_info": {
   "codemirror_mode": {
    "name": "ipython",
    "version": 3
   },
   "file_extension": ".py",
   "mimetype": "text/x-python",
   "name": "python",
   "nbconvert_exporter": "python",
   "pygments_lexer": "ipython3",
   "version": "3.11.5"
  }
 },
 "nbformat": 4,
 "nbformat_minor": 5
}
