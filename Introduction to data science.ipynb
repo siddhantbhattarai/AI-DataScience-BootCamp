{
 "cells": [
  {
   "cell_type": "code",
   "execution_count": 1,
   "id": "c8d8951c-747d-4ff2-b045-c979e1e036d8",
   "metadata": {},
   "outputs": [],
   "source": [
    "import numpy as np"
   ]
  },
  {
   "cell_type": "code",
   "execution_count": 2,
   "id": "bbcef7e2-a569-4441-b96c-8d547d6736cd",
   "metadata": {},
   "outputs": [
    {
     "name": "stdout",
     "output_type": "stream",
     "text": [
      "Heights: [153 130 165 176 100]\n"
     ]
    }
   ],
   "source": [
    "# Creating a NumPy Arrays\n",
    "heights_cm = np.array([153, 130, 165, 176, 100])\n",
    "print(\"Heights:\", heights_cm)"
   ]
  },
  {
   "cell_type": "code",
   "execution_count": 3,
   "id": "b0dd5df6-c4d6-43c4-b123-5c9b83a0e3fb",
   "metadata": {},
   "outputs": [
    {
     "name": "stdout",
     "output_type": "stream",
     "text": [
      "Average Height is:  144.8\n",
      "Maximum Height is:  176\n"
     ]
    }
   ],
   "source": [
    "# Array Operations\n",
    "average_height = np.mean(heights_cm)\n",
    "max_height = np.max(heights_cm)\n",
    "print(\"Average Height is: \", average_height)\n",
    "print(\"Maximum Height is: \", max_height)"
   ]
  },
  {
   "cell_type": "code",
   "execution_count": 6,
   "id": "fd8a7cf2-24ba-43b5-a9fd-2c90bdcc09ff",
   "metadata": {},
   "outputs": [
    {
     "name": "stdout",
     "output_type": "stream",
     "text": [
      "[[25 28 35]\n",
      " [22 23 30]\n",
      " [21 19 17]]\n"
     ]
    }
   ],
   "source": [
    "# Multi Dimentional Array\n",
    "temperature_data = np.array([[25, 28, 35], [22, 23, 30], [21, 19, 17]])\n",
    "print(temperature_data)"
   ]
  },
  {
   "cell_type": "code",
   "execution_count": 7,
   "id": "780d2e00-ce67-4cab-914c-364aa15f146d",
   "metadata": {},
   "outputs": [
    {
     "name": "stdout",
     "output_type": "stream",
     "text": [
      "[[77.  82.4 95. ]\n",
      " [71.6 73.4 86. ]\n",
      " [69.8 66.2 62.6]]\n"
     ]
    }
   ],
   "source": [
    "# Conversion of celcius into fahrenheit\n",
    "temp_fahrenheit = (temperature_data* 9 / 5) + 32\n",
    "print(temp_fahrenheit)"
   ]
  },
  {
   "cell_type": "code",
   "execution_count": 11,
   "id": "9b50f57e-4861-4540-b29b-06b453e2086e",
   "metadata": {},
   "outputs": [
    {
     "name": "stdout",
     "output_type": "stream",
     "text": [
      "np.zeros: [0. 0. 0.]\n",
      "np.zeros:3x3\n",
      " [[0. 0. 0.]\n",
      " [0. 0. 0.]\n",
      " [0. 0. 0.]]\n"
     ]
    }
   ],
   "source": [
    "# Zeros and ones \n",
    "print(\"np.zeros:\", np.zeros(3))\n",
    "print(\"np.zeros:3x3\\n\", np.zeros((3,3)))"
   ]
  },
  {
   "cell_type": "code",
   "execution_count": 13,
   "id": "8acf9236-dd0b-4e34-b8b0-214df36bc849",
   "metadata": {},
   "outputs": [
    {
     "name": "stdout",
     "output_type": "stream",
     "text": [
      "np.zeros: [1. 1. 1.]\n",
      "np.zeros:3x3\n",
      " [[1. 1. 1.]\n",
      " [1. 1. 1.]\n",
      " [1. 1. 1.]]\n"
     ]
    }
   ],
   "source": [
    "# Zeros and ones \n",
    "print(\"np.zeros:\", np.ones(3))\n",
    "print(\"np.zeros:3x3\\n\", np.ones((3,3)))"
   ]
  },
  {
   "cell_type": "code",
   "execution_count": 14,
   "id": "e4b0a757-b92b-4f5f-abb7-165a3136f944",
   "metadata": {},
   "outputs": [
    {
     "name": "stdout",
     "output_type": "stream",
     "text": [
      "[[1. 0. 0.]\n",
      " [0. 1. 0.]\n",
      " [0. 0. 1.]]\n"
     ]
    }
   ],
   "source": [
    "# eye\n",
    "print(np.eye(3))"
   ]
  },
  {
   "cell_type": "code",
   "execution_count": 16,
   "id": "65a42e3b-b340-42bc-8d21-5efbf4ecd62a",
   "metadata": {},
   "outputs": [
    {
     "name": "stdout",
     "output_type": "stream",
     "text": [
      "[ 0  1  2  3  4  5  6  7  8  9 10 11 12 13 14 15 16 17 18 19 20 21 22 23\n",
      " 24]\n",
      "[[ 0  1  2  3  4]\n",
      " [ 5  6  7  8  9]\n",
      " [10 11 12 13 14]\n",
      " [15 16 17 18 19]\n",
      " [20 21 22 23 24]]\n"
     ]
    }
   ],
   "source": [
    "# Array attributes and methods \n",
    "arr = np.arange(25)\n",
    "print(arr)\n",
    "print(arr.reshape(5,5))"
   ]
  },
  {
   "cell_type": "code",
   "execution_count": 18,
   "id": "aa8279c3-b6db-4e8d-a7bf-a181af1d072d",
   "metadata": {},
   "outputs": [
    {
     "name": "stdout",
     "output_type": "stream",
     "text": [
      "Addition:  [5 7 9]\n"
     ]
    }
   ],
   "source": [
    "np_array1 = np.array([1, 2, 3])\n",
    "np_array2 = np.array([4, 5, 6])\n",
    "\n",
    "# Perform arthmetic operations\n",
    "print(\"Addition: \", np_array1 + np_array2)\n"
   ]
  },
  {
   "cell_type": "code",
   "execution_count": 25,
   "id": "afa0dd8f-5743-4740-a504-8cf4180030fc",
   "metadata": {},
   "outputs": [
    {
     "name": "stdout",
     "output_type": "stream",
     "text": [
      "[5 7 9]\n",
      "[-3 -3 -3]\n",
      "[ 4 10 18]\n",
      "[0.25 0.4  0.5 ]\n"
     ]
    }
   ],
   "source": [
    "# Addition \n",
    "addition_result = np.add(np_array1, np_array2)\n",
    "print(addition_result)\n",
    "\n",
    "# Subtraction\n",
    "sub_result = np.subtract(np_array1, np_array2)\n",
    "print(sub_result)\n",
    "\n",
    "# Multiplication\n",
    "multi_result = np.multiply(np_array1, np_array2)\n",
    "print(multi_result)\n",
    "\n",
    "# Divide \n",
    "divide_result = np.divide(np_array1, np_array2)\n",
    "print(divide_result)"
   ]
  },
  {
   "cell_type": "code",
   "execution_count": 26,
   "id": "6251959f-1f1f-4270-a86a-9c84edf38565",
   "metadata": {},
   "outputs": [
    {
     "name": "stdout",
     "output_type": "stream",
     "text": [
      "Angles: [0.         0.78539816 1.57079633 2.35619449 3.14159265]\n"
     ]
    }
   ],
   "source": [
    "angles = np.array([0, np.pi/4, np.pi/2, 3*np.pi/4, np.pi])\n",
    "print(\"Angles:\", angles)"
   ]
  },
  {
   "cell_type": "code",
   "execution_count": 29,
   "id": "cccf1bb6-786c-413d-8b66-fd272f91cb4e",
   "metadata": {},
   "outputs": [
    {
     "name": "stdout",
     "output_type": "stream",
     "text": [
      "[0.00000000e+00 7.07106781e-01 1.00000000e+00 7.07106781e-01\n",
      " 1.22464680e-16]\n",
      "[ 1.00000000e+00  7.07106781e-01  6.12323400e-17 -7.07106781e-01\n",
      " -1.00000000e+00]\n",
      "[ 0.00000000e+00  1.00000000e+00  1.63312394e+16 -1.00000000e+00\n",
      " -1.22464680e-16]\n"
     ]
    }
   ],
   "source": [
    "# Sine\n",
    "sine_values = np.sin(angles)\n",
    "print(sine_values)\n",
    "\n",
    "# Cosine\n",
    "cos_values = np.cos(angles)\n",
    "print(cos_values)\n",
    "\n",
    "# Tangent\n",
    "tan_values = np.tan(angles)\n",
    "print(tan_values)"
   ]
  },
  {
   "cell_type": "code",
   "execution_count": null,
   "id": "895ea43b-0dcf-40a7-af85-c834b489e021",
   "metadata": {},
   "outputs": [],
   "source": []
  }
 ],
 "metadata": {
  "kernelspec": {
   "display_name": "Python 3 (ipykernel)",
   "language": "python",
   "name": "python3"
  },
  "language_info": {
   "codemirror_mode": {
    "name": "ipython",
    "version": 3
   },
   "file_extension": ".py",
   "mimetype": "text/x-python",
   "name": "python",
   "nbconvert_exporter": "python",
   "pygments_lexer": "ipython3",
   "version": "3.11.5"
  }
 },
 "nbformat": 4,
 "nbformat_minor": 5
}
