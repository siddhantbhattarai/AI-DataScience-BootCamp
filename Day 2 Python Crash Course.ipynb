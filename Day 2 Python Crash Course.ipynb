{
 "cells": [
  {
   "cell_type": "markdown",
   "id": "358f2f9a-f3cf-4d2a-951c-50bdfcad750d",
   "metadata": {},
   "source": [
    "#### Python Crash Course\n",
    "This notebook will just go through the basic topics in order:\n",
    "\n",
    "- Print Statements\n",
    "- Data types\n",
    "    - Numbers\n",
    "    - Strings\n",
    "    - Lists\n",
    "    - Dictionaries\n",
    "    - Booleans\n",
    "    - Tuples\n",
    "    - Sets\n",
    "- Comparison Operators\n",
    "- if,elif, else Statements\n",
    "- for Loops\n",
    "- while Loops\n",
    "- range()\n",
    "- list comprehension\n",
    "- functions\n",
    "- lambda expressions\n",
    "- map and filter\n",
    "- methods"
   ]
  },
  {
   "cell_type": "code",
   "execution_count": 2,
   "id": "38d550c8-bf49-49e0-8b7b-a46dd5fb555f",
   "metadata": {},
   "outputs": [
    {
     "name": "stdout",
     "output_type": "stream",
     "text": [
      "Let's learn about the print statements!\n"
     ]
    }
   ],
   "source": [
    "# Let's learn about the print statements\n",
    "print(\"Let's learn about the print statements!\")"
   ]
  },
  {
   "cell_type": "code",
   "execution_count": 4,
   "id": "332f738f-f52c-45c2-8aa9-5a898fbeee25",
   "metadata": {},
   "outputs": [
    {
     "name": "stdout",
     "output_type": "stream",
     "text": [
      "Sneha\n",
      "18\n"
     ]
    }
   ],
   "source": [
    "# Let's create two variables\n",
    "x = 'Sneha'\n",
    "y = 18\n",
    "print(x)\n",
    "print(y)"
   ]
  },
  {
   "cell_type": "code",
   "execution_count": 7,
   "id": "4f8de767-48d3-4668-b944-00bf5ac9b21d",
   "metadata": {},
   "outputs": [
    {
     "name": "stdout",
     "output_type": "stream",
     "text": [
      "Sneha is 18 years old.\n"
     ]
    }
   ],
   "source": [
    "# Let's print the statement with string formatting\n",
    "print(f\"{x} is {y} years old.\")"
   ]
  },
  {
   "cell_type": "code",
   "execution_count": 8,
   "id": "37c130e9-b708-458f-ab17-674e691a1bd6",
   "metadata": {},
   "outputs": [
    {
     "name": "stdout",
     "output_type": "stream",
     "text": [
      "Sneha is 18 years old.\n"
     ]
    }
   ],
   "source": [
    "# Using format method\n",
    "print(\"{} is {} years old.\" .format(x,y))"
   ]
  },
  {
   "cell_type": "code",
   "execution_count": 13,
   "id": "2c868e56-151e-490b-a6f4-9a54910bd6bb",
   "metadata": {},
   "outputs": [
    {
     "name": "stdout",
     "output_type": "stream",
     "text": [
      "Sneha is 18 years old.\n"
     ]
    }
   ],
   "source": [
    "# Using concatenation method\n",
    "print(x + ' is '+ str(y) + ' years old.')"
   ]
  },
  {
   "cell_type": "code",
   "execution_count": 14,
   "id": "83d7014f-1a68-47f4-875c-fbac4b3bc2d9",
   "metadata": {},
   "outputs": [
    {
     "name": "stdout",
     "output_type": "stream",
     "text": [
      "Sneha is 18 years old.\n"
     ]
    }
   ],
   "source": [
    "# Using older % string formatting method\n",
    "print(\"%s is %d years old.\" %(x,y))"
   ]
  },
  {
   "cell_type": "code",
   "execution_count": 15,
   "id": "b093310c-7f6a-4a12-a1fb-c6f236c3478b",
   "metadata": {},
   "outputs": [
    {
     "data": {
      "text/plain": [
       "'Sneha'"
      ]
     },
     "execution_count": 15,
     "metadata": {},
     "output_type": "execute_result"
    }
   ],
   "source": [
    "x"
   ]
  },
  {
   "cell_type": "code",
   "execution_count": 16,
   "id": "f4cdfa57-4755-4a9c-be13-219174781dcd",
   "metadata": {},
   "outputs": [
    {
     "data": {
      "text/plain": [
       "18"
      ]
     },
     "execution_count": 16,
     "metadata": {},
     "output_type": "execute_result"
    }
   ],
   "source": [
    "y"
   ]
  },
  {
   "cell_type": "markdown",
   "id": "c103e462-12e2-4449-98be-febbb6c2f017",
   "metadata": {},
   "source": [
    "**Data Types** \n",
    "- Numbers"
   ]
  },
  {
   "cell_type": "code",
   "execution_count": 20,
   "id": "5d77e65d-19b2-4213-bdda-0084ab36e117",
   "metadata": {},
   "outputs": [
    {
     "name": "stdout",
     "output_type": "stream",
     "text": [
      "The addition of a and b is 110.\n",
      "The subtraction of b from a is 90.\n",
      "The multiplication between a and b is 1000.\n",
      "The division between a and b is 10.0.\n",
      "The reminder is 0.\n"
     ]
    }
   ],
   "source": [
    "# Working with numbers\n",
    "a = 10\n",
    "b = 100\n",
    "print(f\"The addition of a and b is {a+b}.\")\n",
    "print(f\"The subtraction of b from a is {b-a}.\")\n",
    "print(f\"The multiplication between a and b is {a*b}.\")\n",
    "print(f\"The division between a and b is {b/a}.\")\n",
    "print(f\"The reminder is {b%a}.\")"
   ]
  },
  {
   "cell_type": "markdown",
   "id": "26876482-dc91-45dd-bb76-19472506ceed",
   "metadata": {},
   "source": [
    "2.1 String"
   ]
  },
  {
   "cell_type": "code",
   "execution_count": 21,
   "id": "772a7bfa-b61e-4486-8e56-c4ee674135a3",
   "metadata": {},
   "outputs": [
    {
     "name": "stdout",
     "output_type": "stream",
     "text": [
      "Python is Awesome!!\n"
     ]
    }
   ],
   "source": [
    "single_quoted_string = 'Python is Awesome!!'\n",
    "print(single_quoted_string)"
   ]
  },
  {
   "cell_type": "code",
   "execution_count": 22,
   "id": "df560a99-0294-4836-bef0-577085d62600",
   "metadata": {},
   "outputs": [
    {
     "name": "stdout",
     "output_type": "stream",
     "text": [
      "I'm learning python!!\n"
     ]
    }
   ],
   "source": [
    "Double_Quoted_String = \"I'm learning python!!\"\n",
    "print(Double_Quoted_String)"
   ]
  },
  {
   "cell_type": "code",
   "execution_count": 25,
   "id": "9a500aca-ec3b-449a-8840-08cb992307ef",
   "metadata": {},
   "outputs": [
    {
     "name": "stdout",
     "output_type": "stream",
     "text": [
      "Concatenated String is: Python is Awesome!! I'm learning python!!\n"
     ]
    }
   ],
   "source": [
    "# String concatenation \n",
    "string_contatenation = single_quoted_string + ' ' + Double_Quoted_String\n",
    "print(\"Concatenated String is:\", string_contatenation)"
   ]
  },
  {
   "cell_type": "code",
   "execution_count": 28,
   "id": "a11629a4-ed41-495a-8c1a-ad5ad4913e03",
   "metadata": {},
   "outputs": [
    {
     "name": "stdout",
     "output_type": "stream",
     "text": [
      "PYTHON IS AWESOME!! I'M LEARNING PYTHON!!\n",
      "python is awesome!! i'm learning python!!\n"
     ]
    }
   ],
   "source": [
    "# String methods\n",
    "uppercase_string = string_contatenation.upper()\n",
    "print(uppercase_string)\n",
    "lowercase_string = string_contatenation.lower()\n",
    "print(lowercase_string)"
   ]
  },
  {
   "cell_type": "code",
   "execution_count": 30,
   "id": "0969246e-a7d9-4127-9e43-e49a24911bd0",
   "metadata": {},
   "outputs": [
    {
     "name": "stdout",
     "output_type": "stream",
     "text": [
      "Slice Word is: Coll\n"
     ]
    }
   ],
   "source": [
    "# String slicing examples\n",
    "word = 'ISMT-College'\n",
    "slice_word = word[5:9]\n",
    "print(\"Slice Word is:\", slice_word)"
   ]
  },
  {
   "cell_type": "code",
   "execution_count": 32,
   "id": "e29e74f9-304b-4a41-bd05-ff3e45e1d57e",
   "metadata": {},
   "outputs": [
    {
     "name": "stdout",
     "output_type": "stream",
     "text": [
      "   University of Sundarland   \n",
      "University of Sundarland\n"
     ]
    }
   ],
   "source": [
    "# Remove the leading and trailing spaces\n",
    "word_with_space = \"   University of Sundarland   \"\n",
    "print(word_with_space)\n",
    "remove_space = word_with_space.strip()\n",
    "print(remove_space)"
   ]
  },
  {
   "cell_type": "markdown",
   "id": "88ad8296-7b8b-487c-9896-ea596310738d",
   "metadata": {},
   "source": [
    "2.3 List"
   ]
  },
  {
   "cell_type": "code",
   "execution_count": 33,
   "id": "c9bf5d3e-8e88-483a-aa3d-08cca8772ff6",
   "metadata": {},
   "outputs": [
    {
     "name": "stdout",
     "output_type": "stream",
     "text": [
      "['3 Idiots', 'Loki', 'Tare Jamin Par', 'Forest Gump', 'Money Heist']\n"
     ]
    }
   ],
   "source": [
    "# Create a list\n",
    "fav_movie = [\"3 Idiots\", \"Loki\", \"Tare Jamin Par\", \"Forest Gump\", \"Money Heist\"]\n",
    "print(fav_movie)"
   ]
  },
  {
   "cell_type": "code",
   "execution_count": 38,
   "id": "6dddea6c-3e56-4e47-84ab-5d6f125e25e1",
   "metadata": {},
   "outputs": [
    {
     "name": "stdout",
     "output_type": "stream",
     "text": [
      "Rojit fav movie is: 3 Idiots\n",
      "Bishes fav movie is: Loki\n",
      "Aakriti fav movie is: Tare Jamin Par\n",
      "Suraj fav movie is: Forest Gump\n",
      "Siddhant fav movie is: Money Heist\n"
     ]
    }
   ],
   "source": [
    "# Accessing the element of list\n",
    "print(\"Rojit fav movie is:\", fav_movie[0])\n",
    "print(\"Bishes fav movie is:\", fav_movie[1])\n",
    "print(\"Aakriti fav movie is:\", fav_movie[2])\n",
    "print(\"Suraj fav movie is:\", fav_movie[3])\n",
    "print(\"Siddhant fav movie is:\", fav_movie[4])"
   ]
  },
  {
   "cell_type": "code",
   "execution_count": 39,
   "id": "db568c7a-350b-4729-a37b-51e8389809e2",
   "metadata": {},
   "outputs": [
    {
     "name": "stdout",
     "output_type": "stream",
     "text": [
      "The length of list is: 5\n"
     ]
    }
   ],
   "source": [
    "print(\"The length of list is:\", len(fav_movie))"
   ]
  },
  {
   "cell_type": "code",
   "execution_count": 40,
   "id": "53ab3b85-b6b7-4e1a-963b-7f34dd78fde0",
   "metadata": {},
   "outputs": [
    {
     "name": "stdout",
     "output_type": "stream",
     "text": [
      "{'name': 'Siddhant', 'Department': 'Computer Engineering', 'CGPA': 3.8}\n"
     ]
    }
   ],
   "source": [
    "# Working with dictionary \n",
    "student = {\n",
    "    \"name\": \"Siddhant\",\n",
    "    \"Department\": \"Computer Engineering\",\n",
    "    \"CGPA\": 3.8\n",
    "}\n",
    "print(student)"
   ]
  },
  {
   "cell_type": "code",
   "execution_count": 41,
   "id": "b831a356-3f51-4b2c-b551-4b6f8f9c899f",
   "metadata": {},
   "outputs": [
    {
     "name": "stdout",
     "output_type": "stream",
     "text": [
      "Name of student: Siddhant\n"
     ]
    }
   ],
   "source": [
    "# Accessing the dictionary items\n",
    "print(\"Name of student:\", student[\"name\"])"
   ]
  },
  {
   "cell_type": "code",
   "execution_count": 42,
   "id": "6700ed59-3c60-4962-af98-759c545e9390",
   "metadata": {},
   "outputs": [
    {
     "name": "stdout",
     "output_type": "stream",
     "text": [
      "{'name': 'Siddhant', 'Department': 'Computer Engineering', 'CGPA': 3.8, 'Year': 2019}\n"
     ]
    }
   ],
   "source": [
    "# Adding a new element in dictionary\n",
    "student[\"Year\"] = 2019\n",
    "print(student)"
   ]
  },
  {
   "cell_type": "code",
   "execution_count": 43,
   "id": "70c719bc-7003-4cbe-bc26-ae809c3c624d",
   "metadata": {},
   "outputs": [
    {
     "name": "stdout",
     "output_type": "stream",
     "text": [
      "{'name': 'Siddhant', 'Department': 'Computer Engineering', 'CGPA': 3.9, 'Year': 2019}\n"
     ]
    }
   ],
   "source": [
    "# Modifying an item if it exists\n",
    "student[\"CGPA\"] = 3.9\n",
    "print(repr(student))"
   ]
  },
  {
   "cell_type": "code",
   "execution_count": 44,
   "id": "03125408-d80d-43c6-a7f8-ba9afe63402d",
   "metadata": {},
   "outputs": [
    {
     "name": "stdout",
     "output_type": "stream",
     "text": [
      "{'name': 'Siddhant', 'Department': 'Computer Engineering', 'CGPA': 3.9}\n"
     ]
    }
   ],
   "source": [
    "# Delete an item from dictionary if it exist\n",
    "if \"Year\" in student:\n",
    "    del student[\"Year\"]\n",
    "print(student)"
   ]
  },
  {
   "cell_type": "code",
   "execution_count": 45,
   "id": "1920e682-1d09-42f0-acfb-22bc3fa5eca7",
   "metadata": {},
   "outputs": [
    {
     "name": "stdout",
     "output_type": "stream",
     "text": [
      "('3 Idiots', 'Loki', 'Tare Jamin Par', 'Forest Gump', 'Money Heist')\n"
     ]
    }
   ],
   "source": [
    "# Working with Tuple\n",
    "fav_movie = (\"3 Idiots\", \"Loki\", \"Tare Jamin Par\", \"Forest Gump\", \"Money Heist\")\n",
    "print(fav_movie)"
   ]
  },
  {
   "cell_type": "code",
   "execution_count": 46,
   "id": "03f5c967-7e6e-4ce5-97f4-66ae42370ee8",
   "metadata": {},
   "outputs": [
    {
     "name": "stdout",
     "output_type": "stream",
     "text": [
      "Rojit fav movie is: 3 Idiots\n",
      "Bishes fav movie is: Loki\n"
     ]
    }
   ],
   "source": [
    "# Accessing the fav movie\n",
    "print(\"Rojit fav movie is:\", fav_movie[0])\n",
    "print(\"Bishes fav movie is:\", fav_movie[1])"
   ]
  },
  {
   "cell_type": "code",
   "execution_count": 47,
   "id": "ddd3e0d9-ffbe-43ee-b308-73d1ae154cc0",
   "metadata": {},
   "outputs": [
    {
     "name": "stdout",
     "output_type": "stream",
     "text": [
      "50 is greatest number.\n"
     ]
    }
   ],
   "source": [
    "# Conditional Statements:\n",
    "# Finding the greates number among three\n",
    "a = 10\n",
    "b = 30\n",
    "c = 50\n",
    "\n",
    "if a > b and a > c:\n",
    "    print(f\"{a} is greatest number.\")\n",
    "elif b > a and b > c:\n",
    "    print(f\"{b} is greatest number.\")\n",
    "else:\n",
    "    print(f\"{c} is greatest number.\")"
   ]
  },
  {
   "cell_type": "code",
   "execution_count": 57,
   "id": "bcde3005-2c53-494d-8a2d-63e2cd8a0ff5",
   "metadata": {},
   "outputs": [
    {
     "name": "stdout",
     "output_type": "stream",
     "text": [
      "Leap Year\n"
     ]
    }
   ],
   "source": [
    "# Leap Year\n",
    "year = 2024\n",
    "\n",
    "if (year%4==0 and year%100!=0) or (year%400==0):\n",
    "    print(\"Leap Year\")\n",
    "else:\n",
    "    print(\"Not a leap year.\")"
   ]
  },
  {
   "cell_type": "code",
   "execution_count": 58,
   "id": "2b380ce3-b65d-4f55-89e7-cc736b394718",
   "metadata": {},
   "outputs": [
    {
     "name": "stdout",
     "output_type": "stream",
     "text": [
      "Multiple of Five:\n",
      "10\n",
      "20\n",
      "30\n",
      "40\n",
      "50\n"
     ]
    }
   ],
   "source": [
    "# Loop \n",
    "multiple_of_10 = [10, 20, 30, 40, 50]\n",
    "\n",
    "print(\"Multiple of Five:\")\n",
    "for num in multiple_of_10:\n",
    "    print(num)"
   ]
  },
  {
   "cell_type": "code",
   "execution_count": 59,
   "id": "fc6b300b-66e2-4ff8-bc6f-2ae96ba55e03",
   "metadata": {},
   "outputs": [
    {
     "name": "stdout",
     "output_type": "stream",
     "text": [
      "H\n",
      "e\n",
      "l\n",
      "l\n",
      "o\n",
      " \n",
      "I\n",
      " \n",
      "a\n",
      "m\n",
      " \n",
      "L\n",
      "e\n",
      "a\n",
      "r\n",
      "n\n",
      "i\n",
      "n\n",
      "g\n",
      " \n",
      "p\n",
      "y\n",
      "t\n",
      "h\n",
      "o\n",
      "n\n",
      ".\n"
     ]
    }
   ],
   "source": [
    "# Let's work with string\n",
    "string = \"Hello I am Learning python.\"\n",
    "\n",
    "for char in string:\n",
    "    print(char)"
   ]
  },
  {
   "cell_type": "code",
   "execution_count": 63,
   "id": "ad9a4fcb-5338-4482-a5c6-bc3cc5f873bd",
   "metadata": {},
   "outputs": [
    {
     "name": "stdout",
     "output_type": "stream",
     "text": [
      "10\n",
      "8\n",
      "6\n",
      "4\n",
      "2\n"
     ]
    }
   ],
   "source": [
    "# Let's use range\n",
    "for i in range(10,1,-2):\n",
    "    print(i)"
   ]
  },
  {
   "cell_type": "code",
   "execution_count": null,
   "id": "cce1d213-9046-460e-802e-32157b74dc95",
   "metadata": {},
   "outputs": [],
   "source": []
  }
 ],
 "metadata": {
  "kernelspec": {
   "display_name": "Python 3 (ipykernel)",
   "language": "python",
   "name": "python3"
  },
  "language_info": {
   "codemirror_mode": {
    "name": "ipython",
    "version": 3
   },
   "file_extension": ".py",
   "mimetype": "text/x-python",
   "name": "python",
   "nbconvert_exporter": "python",
   "pygments_lexer": "ipython3",
   "version": "3.11.5"
  }
 },
 "nbformat": 4,
 "nbformat_minor": 5
}
